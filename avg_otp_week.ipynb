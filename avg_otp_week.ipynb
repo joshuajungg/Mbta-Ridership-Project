{
 "cells": [
  {
   "cell_type": "code",
   "execution_count": 1,
   "id": "f27ca687-1eba-4844-8b04-05564d57dd00",
   "metadata": {},
   "outputs": [
    {
     "name": "stdout",
     "output_type": "stream",
     "text": [
      "Requirement already satisfied: altair in /Users/abigailsiy/opt/anaconda3/envs/ds/lib/python3.12/site-packages (5.5.0)\n",
      "Requirement already satisfied: jinja2 in /Users/abigailsiy/opt/anaconda3/envs/ds/lib/python3.12/site-packages (from altair) (3.1.4)\n",
      "Requirement already satisfied: jsonschema>=3.0 in /Users/abigailsiy/opt/anaconda3/envs/ds/lib/python3.12/site-packages (from altair) (4.23.0)\n",
      "Requirement already satisfied: narwhals>=1.14.2 in /Users/abigailsiy/opt/anaconda3/envs/ds/lib/python3.12/site-packages (from altair) (1.33.0)\n",
      "Requirement already satisfied: packaging in /Users/abigailsiy/opt/anaconda3/envs/ds/lib/python3.12/site-packages (from altair) (24.1)\n",
      "Requirement already satisfied: typing-extensions>=4.10.0 in /Users/abigailsiy/opt/anaconda3/envs/ds/lib/python3.12/site-packages (from altair) (4.12.2)\n",
      "Requirement already satisfied: attrs>=22.2.0 in /Users/abigailsiy/opt/anaconda3/envs/ds/lib/python3.12/site-packages (from jsonschema>=3.0->altair) (24.3.0)\n",
      "Requirement already satisfied: jsonschema-specifications>=2023.03.6 in /Users/abigailsiy/opt/anaconda3/envs/ds/lib/python3.12/site-packages (from jsonschema>=3.0->altair) (2023.7.1)\n",
      "Requirement already satisfied: referencing>=0.28.4 in /Users/abigailsiy/opt/anaconda3/envs/ds/lib/python3.12/site-packages (from jsonschema>=3.0->altair) (0.30.2)\n",
      "Requirement already satisfied: rpds-py>=0.7.1 in /Users/abigailsiy/opt/anaconda3/envs/ds/lib/python3.12/site-packages (from jsonschema>=3.0->altair) (0.22.3)\n",
      "Requirement already satisfied: MarkupSafe>=2.0 in /Users/abigailsiy/opt/anaconda3/envs/ds/lib/python3.12/site-packages (from jinja2->altair) (2.1.3)\n",
      "Note: you may need to restart the kernel to use updated packages.\n"
     ]
    }
   ],
   "source": [
    "pip install altair"
   ]
  },
  {
   "cell_type": "code",
   "execution_count": 2,
   "id": "d45a36f5-6daf-4e6d-a908-ef1b0877526b",
   "metadata": {},
   "outputs": [],
   "source": [
    "import altair as alt\n",
    "import pandas as pd\n",
    "import numpy as np\n"
   ]
  },
  {
   "cell_type": "code",
   "execution_count": 8,
   "id": "95cdca0e-937a-4927-8282-6be1af54677b",
   "metadata": {},
   "outputs": [
    {
     "data": {
      "text/plain": [
       "service_date               0\n",
       "gtfs_route_id              0\n",
       "gtfs_route_long_name       0\n",
       "peak_offpeak_ind           0\n",
       "otp_numerator              0\n",
       "otp_denominator            0\n",
       "cancelled_numerator        0\n",
       "ObjectId                   0\n",
       "otp_ratio               1331\n",
       "service_time               0\n",
       "dtype: int64"
      ]
     },
     "execution_count": 8,
     "metadata": {},
     "output_type": "execute_result"
    }
   ],
   "source": [
    "mbta_data = pd.read_csv(\"MBTA_Commuter_Rail.csv\")\n",
    "mbta_data.isnull().sum()\n"
   ]
  },
  {
   "cell_type": "code",
   "execution_count": 20,
   "id": "764d405d-291b-455c-ac5a-bcc416449a1f",
   "metadata": {},
   "outputs": [
    {
     "name": "stdout",
     "output_type": "stream",
     "text": [
      "0.9\n",
      "0.91\n"
     ]
    }
   ],
   "source": [
    "# Convert 'service_date' to datetime\n",
    "mbta_data['service_date'] = pd.to_datetime(mbta_data['service_date'])\n",
    "\n",
    "# Add a new column for the day of the week (Monday=0, Sunday=6)\n",
    "mbta_data['day_of_week'] = mbta_data['service_date'].dt.dayofweek\n",
    "\n",
    "# Filter weekdays (Mon–Fri → 0–4)\n",
    "weekdays = mbta_data[mbta_data['day_of_week'] < 5]\n",
    "\n",
    "# Filter weekends (Sat–Sun → 5–6)\n",
    "weekends = mbta_data[mbta_data['day_of_week'] >= 5]\n",
    "\n",
    "\n",
    "print(weekends['otp_ratio'].mean().round(2))\n",
    "print(weekdays['otp_ratio'].mean().round(2))"
   ]
  },
  {
   "cell_type": "code",
   "execution_count": 31,
   "id": "f5ff3270-cf1e-4995-a03e-c88e911d0c7d",
   "metadata": {},
   "outputs": [
    {
     "data": {
      "text/html": [
       "\n",
       "<style>\n",
       "  #altair-viz-369ca42a81324c07b216545465c19d48.vega-embed {\n",
       "    width: 100%;\n",
       "    display: flex;\n",
       "  }\n",
       "\n",
       "  #altair-viz-369ca42a81324c07b216545465c19d48.vega-embed details,\n",
       "  #altair-viz-369ca42a81324c07b216545465c19d48.vega-embed details summary {\n",
       "    position: relative;\n",
       "  }\n",
       "</style>\n",
       "<div id=\"altair-viz-369ca42a81324c07b216545465c19d48\"></div>\n",
       "<script type=\"text/javascript\">\n",
       "  var VEGA_DEBUG = (typeof VEGA_DEBUG == \"undefined\") ? {} : VEGA_DEBUG;\n",
       "  (function(spec, embedOpt){\n",
       "    let outputDiv = document.currentScript.previousElementSibling;\n",
       "    if (outputDiv.id !== \"altair-viz-369ca42a81324c07b216545465c19d48\") {\n",
       "      outputDiv = document.getElementById(\"altair-viz-369ca42a81324c07b216545465c19d48\");\n",
       "    }\n",
       "\n",
       "    const paths = {\n",
       "      \"vega\": \"https://cdn.jsdelivr.net/npm/vega@5?noext\",\n",
       "      \"vega-lib\": \"https://cdn.jsdelivr.net/npm/vega-lib?noext\",\n",
       "      \"vega-lite\": \"https://cdn.jsdelivr.net/npm/vega-lite@5.20.1?noext\",\n",
       "      \"vega-embed\": \"https://cdn.jsdelivr.net/npm/vega-embed@6?noext\",\n",
       "    };\n",
       "\n",
       "    function maybeLoadScript(lib, version) {\n",
       "      var key = `${lib.replace(\"-\", \"\")}_version`;\n",
       "      return (VEGA_DEBUG[key] == version) ?\n",
       "        Promise.resolve(paths[lib]) :\n",
       "        new Promise(function(resolve, reject) {\n",
       "          var s = document.createElement('script');\n",
       "          document.getElementsByTagName(\"head\")[0].appendChild(s);\n",
       "          s.async = true;\n",
       "          s.onload = () => {\n",
       "            VEGA_DEBUG[key] = version;\n",
       "            return resolve(paths[lib]);\n",
       "          };\n",
       "          s.onerror = () => reject(`Error loading script: ${paths[lib]}`);\n",
       "          s.src = paths[lib];\n",
       "        });\n",
       "    }\n",
       "\n",
       "    function showError(err) {\n",
       "      outputDiv.innerHTML = `<div class=\"error\" style=\"color:red;\">${err}</div>`;\n",
       "      throw err;\n",
       "    }\n",
       "\n",
       "    function displayChart(vegaEmbed) {\n",
       "      vegaEmbed(outputDiv, spec, embedOpt)\n",
       "        .catch(err => showError(`Javascript Error: ${err.message}<br>This usually means there's a typo in your chart specification. See the javascript console for the full traceback.`));\n",
       "    }\n",
       "\n",
       "    if(typeof define === \"function\" && define.amd) {\n",
       "      requirejs.config({paths});\n",
       "      let deps = [\"vega-embed\"];\n",
       "      require(deps, displayChart, err => showError(`Error loading script: ${err.message}`));\n",
       "    } else {\n",
       "      maybeLoadScript(\"vega\", \"5\")\n",
       "        .then(() => maybeLoadScript(\"vega-lite\", \"5.20.1\"))\n",
       "        .then(() => maybeLoadScript(\"vega-embed\", \"6\"))\n",
       "        .catch(showError)\n",
       "        .then(() => displayChart(vegaEmbed));\n",
       "    }\n",
       "  })({\"config\": {\"view\": {\"continuousWidth\": 300, \"continuousHeight\": 300}}, \"data\": {\"name\": \"data-18cc27f4771361f818ce515e531f0591\"}, \"mark\": {\"type\": \"bar\"}, \"encoding\": {\"color\": {\"field\": \"day_type\", \"legend\": null, \"type\": \"nominal\"}, \"x\": {\"axis\": {\"labelAngle\": 360}, \"field\": \"day_type\", \"title\": \"\", \"type\": \"nominal\"}, \"y\": {\"field\": \"avg_otp_ratio\", \"title\": \"Average OTP Ratio\", \"type\": \"quantitative\"}}, \"height\": 400, \"title\": \"Average OTP Ratio: Weekdays vs Weekends\", \"width\": 350, \"$schema\": \"https://vega.github.io/schema/vega-lite/v5.20.1.json\", \"datasets\": {\"data-18cc27f4771361f818ce515e531f0591\": [{\"day_type\": \"Weekday\", \"avg_otp_ratio\": 0.91}, {\"day_type\": \"Weekend\", \"avg_otp_ratio\": 0.9}]}}, {\"mode\": \"vega-lite\"});\n",
       "</script>"
      ],
      "text/plain": [
       "alt.Chart(...)"
      ]
     },
     "execution_count": 31,
     "metadata": {},
     "output_type": "execute_result"
    }
   ],
   "source": [
    "import seaborn as sns\n",
    "import matplotlib.pyplot as plt\n",
    "\n",
    "avg_weekday_otp = weekdays['otp_ratio'].mean().round(2)\n",
    "avg_weekend_otp = weekends['otp_ratio'].mean().round(2)\n",
    "\n",
    "otp_avg_df = pd.DataFrame({\n",
    "    'day_type': ['Weekday', 'Weekend'],\n",
    "    'avg_otp_ratio': [avg_weekday_otp, avg_weekend_otp]\n",
    "})\n",
    "\n",
    "# Altair bar chart\n",
    "alt_bar = alt.Chart(otp_avg_df).mark_bar().encode(\n",
    "    x=alt.X('day_type:N', title='', axis=alt.Axis(labelAngle=360)),\n",
    "    y=alt.Y('avg_otp_ratio:Q', title='Average OTP Ratio'),\n",
    "    color=alt.Color('day_type:N', legend=None)\n",
    ").properties(\n",
    "    title='Average OTP Ratio: Weekdays vs Weekends',\n",
    "    width=350,\n",
    "    height=400\n",
    ")\n",
    "\n",
    "alt_bar\n"
   ]
  },
  {
   "cell_type": "code",
   "execution_count": null,
   "id": "d7679a84-11db-4fc3-bd57-cd309d6989eb",
   "metadata": {},
   "outputs": [],
   "source": []
  }
 ],
 "metadata": {
  "kernelspec": {
   "display_name": "Python 3 (ipykernel)",
   "language": "python",
   "name": "python3"
  },
  "language_info": {
   "codemirror_mode": {
    "name": "ipython",
    "version": 3
   },
   "file_extension": ".py",
   "mimetype": "text/x-python",
   "name": "python",
   "nbconvert_exporter": "python",
   "pygments_lexer": "ipython3",
   "version": "3.12.4"
  }
 },
 "nbformat": 4,
 "nbformat_minor": 5
}
